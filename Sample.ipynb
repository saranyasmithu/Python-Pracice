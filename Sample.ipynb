{
 "cells": [
  {
   "cell_type": "markdown",
   "metadata": {},
   "source": [
    "# Arguments demo"
   ]
  },
  {
   "cell_type": "code",
   "execution_count": 1,
   "metadata": {},
   "outputs": [
    {
     "name": "stdout",
     "output_type": "stream",
     "text": [
      "C:\\ProgramData\\Anaconda3\\lib\\site-packages\\ipykernel_launcher.py\n"
     ]
    }
   ],
   "source": [
    "import sys\n",
    "print(sys.argv[0])"
   ]
  },
  {
   "cell_type": "markdown",
   "metadata": {},
   "source": [
    "# Function Demo"
   ]
  },
  {
   "cell_type": "code",
   "execution_count": 2,
   "metadata": {},
   "outputs": [
    {
     "name": "stdout",
     "output_type": "stream",
     "text": [
      "C:\\ProgramData\\Anaconda3\\lib\\site-packages\\ipykernel_launcher.py\n"
     ]
    }
   ],
   "source": [
    "import sys\n",
    "def fun_test():\n",
    "    print(sys.argv[0])\n",
    "fun_test()"
   ]
  },
  {
   "cell_type": "code",
   "execution_count": 3,
   "metadata": {},
   "outputs": [
    {
     "name": "stdout",
     "output_type": "stream",
     "text": [
      "C:\\ProgramData\\Anaconda3\\lib\\site-packages\\ipykernel_launcher.py\n"
     ]
    }
   ],
   "source": [
    "fun_test()"
   ]
  },
  {
   "cell_type": "markdown",
   "metadata": {},
   "source": [
    "# Operators"
   ]
  },
  {
   "cell_type": "code",
   "execution_count": 4,
   "metadata": {},
   "outputs": [
    {
     "data": {
      "text/plain": [
       "6"
      ]
     },
     "execution_count": 4,
     "metadata": {},
     "output_type": "execute_result"
    }
   ],
   "source": [
    "3+3"
   ]
  },
  {
   "cell_type": "code",
   "execution_count": 5,
   "metadata": {},
   "outputs": [
    {
     "data": {
      "text/plain": [
       "1"
      ]
     },
     "execution_count": 5,
     "metadata": {},
     "output_type": "execute_result"
    }
   ],
   "source": [
    "2-1"
   ]
  },
  {
   "cell_type": "code",
   "execution_count": 6,
   "metadata": {},
   "outputs": [
    {
     "data": {
      "text/plain": [
       "2.5"
      ]
     },
     "execution_count": 6,
     "metadata": {},
     "output_type": "execute_result"
    }
   ],
   "source": [
    "5/2 # Division always return float value"
   ]
  },
  {
   "cell_type": "code",
   "execution_count": 7,
   "metadata": {},
   "outputs": [
    {
     "data": {
      "text/plain": [
       "1"
      ]
     },
     "execution_count": 7,
     "metadata": {},
     "output_type": "execute_result"
    }
   ],
   "source": [
    "5//3"
   ]
  },
  {
   "cell_type": "code",
   "execution_count": 8,
   "metadata": {},
   "outputs": [
    {
     "data": {
      "text/plain": [
       "2"
      ]
     },
     "execution_count": 8,
     "metadata": {},
     "output_type": "execute_result"
    }
   ],
   "source": [
    "5//2  #Floor Division(returns quotient)"
   ]
  },
  {
   "cell_type": "code",
   "execution_count": 9,
   "metadata": {},
   "outputs": [
    {
     "data": {
      "text/plain": [
       "4"
      ]
     },
     "execution_count": 9,
     "metadata": {},
     "output_type": "execute_result"
    }
   ],
   "source": [
    "2*2"
   ]
  },
  {
   "cell_type": "code",
   "execution_count": 10,
   "metadata": {},
   "outputs": [
    {
     "data": {
      "text/plain": [
       "4"
      ]
     },
     "execution_count": 10,
     "metadata": {},
     "output_type": "execute_result"
    }
   ],
   "source": [
    "2**2"
   ]
  },
  {
   "cell_type": "code",
   "execution_count": 11,
   "metadata": {},
   "outputs": [
    {
     "data": {
      "text/plain": [
       "8"
      ]
     },
     "execution_count": 11,
     "metadata": {},
     "output_type": "execute_result"
    }
   ],
   "source": [
    "2**3  #exponential operation"
   ]
  },
  {
   "cell_type": "code",
   "execution_count": 12,
   "metadata": {},
   "outputs": [
    {
     "data": {
      "text/plain": [
       "2"
      ]
     },
     "execution_count": 12,
     "metadata": {},
     "output_type": "execute_result"
    }
   ],
   "source": [
    "5%3  #returns remainder"
   ]
  },
  {
   "cell_type": "code",
   "execution_count": 13,
   "metadata": {},
   "outputs": [
    {
     "data": {
      "text/plain": [
       "2"
      ]
     },
     "execution_count": 13,
     "metadata": {},
     "output_type": "execute_result"
    }
   ],
   "source": [
    "_  #underscore returns last executed value "
   ]
  },
  {
   "cell_type": "code",
   "execution_count": 14,
   "metadata": {},
   "outputs": [
    {
     "data": {
      "text/plain": [
       "1.6666666666666667"
      ]
     },
     "execution_count": 14,
     "metadata": {},
     "output_type": "execute_result"
    }
   ],
   "source": [
    "5/3"
   ]
  },
  {
   "cell_type": "code",
   "execution_count": 15,
   "metadata": {},
   "outputs": [
    {
     "data": {
      "text/plain": [
       "1.67"
      ]
     },
     "execution_count": 15,
     "metadata": {},
     "output_type": "execute_result"
    }
   ],
   "source": [
    "round(_,2) #round function"
   ]
  },
  {
   "cell_type": "code",
   "execution_count": 16,
   "metadata": {},
   "outputs": [
    {
     "data": {
      "text/plain": [
       "1.67"
      ]
     },
     "execution_count": 16,
     "metadata": {},
     "output_type": "execute_result"
    }
   ],
   "source": [
    "_"
   ]
  },
  {
   "cell_type": "markdown",
   "metadata": {},
   "source": [
    "# Strings - These are Immutable, cant be changed"
   ]
  },
  {
   "cell_type": "code",
   "execution_count": 17,
   "metadata": {},
   "outputs": [
    {
     "name": "stdout",
     "output_type": "stream",
     "text": [
      "Hello Saranya\n"
     ]
    }
   ],
   "source": [
    "greet='Hello'\n",
    "name='Saranya'\n",
    "print(greet+' '+name)"
   ]
  },
  {
   "cell_type": "code",
   "execution_count": 18,
   "metadata": {},
   "outputs": [
    {
     "name": "stdout",
     "output_type": "stream",
     "text": [
      "Saranya''\n"
     ]
    }
   ],
   "source": [
    "print(\"Saranya''\")"
   ]
  },
  {
   "cell_type": "code",
   "execution_count": 19,
   "metadata": {},
   "outputs": [
    {
     "name": "stdout",
     "output_type": "stream",
     "text": [
      "hi \\n Hello \\b saran \\t hi\n"
     ]
    }
   ],
   "source": [
    "print (r'hi \\n Hello \\b saran \\t hi')  #Raw String "
   ]
  },
  {
   "cell_type": "code",
   "execution_count": 20,
   "metadata": {},
   "outputs": [
    {
     "name": "stdout",
     "output_type": "stream",
     "text": [
      "saranya\n",
      "nithya\n",
      "bhuvi\n"
     ]
    }
   ],
   "source": [
    "print('''\\\n",
    "saranya\n",
    "nithya\n",
    "bhuvi\\\n",
    "''') \n",
    "#String literals can span multiple lines.\n",
    "#One way is using triple-quotes: \"\"\"...\"\"\" or '''...'''. \n",
    "#End of lines are automatically included in the string, \n",
    "#but it’s possible to prevent this by adding a \\ at the end of the line. "
   ]
  },
  {
   "cell_type": "code",
   "execution_count": 21,
   "metadata": {},
   "outputs": [
    {
     "name": "stdout",
     "output_type": "stream",
     "text": [
      "nithya Saranya nithya Saranya nithya Saranya \n"
     ]
    }
   ],
   "source": [
    "print(3 * ('nithya ' 'Saranya ')) #print content multiple times, Concatenation also be done with + symbol"
   ]
  },
  {
   "cell_type": "code",
   "execution_count": 22,
   "metadata": {},
   "outputs": [
    {
     "name": "stdout",
     "output_type": "stream",
     "text": [
      "r\n",
      "Saranya\n",
      "Saranya\n",
      "ya\n",
      "Saranya\n"
     ]
    }
   ],
   "source": [
    "print(name[2])\n",
    "print(name[0:])\n",
    "print(name[:])\n",
    "print(name[-2:])\n",
    "print(name[:2]+name[2:])\n",
    "#Slicing-Indexing of strings"
   ]
  },
  {
   "cell_type": "code",
   "execution_count": 23,
   "metadata": {},
   "outputs": [
    {
     "name": "stdout",
     "output_type": "stream",
     "text": [
      "Saranya\n"
     ]
    }
   ],
   "source": [
    "print (name)"
   ]
  },
  {
   "cell_type": "code",
   "execution_count": 24,
   "metadata": {},
   "outputs": [
    {
     "name": "stdout",
     "output_type": "stream",
     "text": [
      "Saranya\n"
     ]
    }
   ],
   "source": [
    "Name='Saranya'\n",
    "print(Name)"
   ]
  },
  {
   "cell_type": "code",
   "execution_count": 25,
   "metadata": {},
   "outputs": [
    {
     "name": "stdout",
     "output_type": "stream",
     "text": [
      "LSaranya\n"
     ]
    }
   ],
   "source": [
    "print('L'+Name[0:])\n",
    "#Adding New string along with existing String"
   ]
  },
  {
   "cell_type": "code",
   "execution_count": 26,
   "metadata": {},
   "outputs": [
    {
     "name": "stdout",
     "output_type": "stream",
     "text": [
      "7\n"
     ]
    }
   ],
   "source": [
    "#Finding the length of the string\n",
    "print(len(Name))"
   ]
  },
  {
   "cell_type": "markdown",
   "metadata": {},
   "source": [
    "# LISTS [ ],These are Mutable,Contents can be changed"
   ]
  },
  {
   "cell_type": "code",
   "execution_count": 27,
   "metadata": {},
   "outputs": [
    {
     "name": "stdout",
     "output_type": "stream",
     "text": [
      "[1, 4, 9, 16, 25, 36]\n",
      "9\n",
      "[9, 16, 25, 36]\n",
      "[16, 25, 36]\n"
     ]
    }
   ],
   "source": [
    "#Operation suppored in Lists\n",
    "\n",
    "squares=[1,4,9,16,25,36]\n",
    "print(squares)\n",
    "print(squares[2])\n",
    "print(squares[2:])\n",
    "print(squares[-3:])"
   ]
  },
  {
   "cell_type": "code",
   "execution_count": 28,
   "metadata": {},
   "outputs": [
    {
     "name": "stdout",
     "output_type": "stream",
     "text": [
      "[1, 4, 9, 16, 25, 36, 49, 64, 100, 121, 144]\n",
      "[1, 4, 9, 16, 25, 36, 1, 2, 3]\n"
     ]
    }
   ],
   "source": [
    "#concatenation Operation In Lists\n",
    "print(squares+[49]+[64]+[100]+[121]+[144])\n",
    "print(squares+[1,2,3])"
   ]
  },
  {
   "cell_type": "code",
   "execution_count": 29,
   "metadata": {},
   "outputs": [
    {
     "name": "stdout",
     "output_type": "stream",
     "text": [
      "[1, 8, 27, 65, 125]\n",
      "[1, 8, 27, 64, 125]\n"
     ]
    }
   ],
   "source": [
    "##contents can be changed\n",
    "cubes=[1,8,27,65,125]\n",
    "print(cubes)\n",
    "#65 -> 64\n",
    "cubes[3]=64\n",
    "print(cubes)"
   ]
  },
  {
   "cell_type": "code",
   "execution_count": 30,
   "metadata": {},
   "outputs": [
    {
     "name": "stdout",
     "output_type": "stream",
     "text": [
      "[1, 8, 27, 64, 125, 216]\n",
      "[1, 8, 27, 64, 125, 216, 343]\n"
     ]
    }
   ],
   "source": [
    "#Appending New Items to end of the list  - Using append()\n",
    "cubes.append(216)\n",
    "print(cubes)\n",
    "\n",
    "cubes.append(7**3)\n",
    "print(cubes)\n",
    "\n"
   ]
  },
  {
   "cell_type": "code",
   "execution_count": 31,
   "metadata": {},
   "outputs": [
    {
     "name": "stdout",
     "output_type": "stream",
     "text": [
      "[1, 8, 27, 64, 125, 216]\n"
     ]
    }
   ],
   "source": [
    "#removing Letters\n",
    "cubes[6:14]=[]\n",
    "print(cubes)"
   ]
  },
  {
   "cell_type": "code",
   "execution_count": 32,
   "metadata": {},
   "outputs": [
    {
     "name": "stdout",
     "output_type": "stream",
     "text": [
      "['a', 'b', 'c', 'd', 'e']\n",
      "5\n"
     ]
    }
   ],
   "source": [
    "letters=['a','b','c','d','e']\n",
    "print(letters)\n",
    "print(len(letters))"
   ]
  },
  {
   "cell_type": "code",
   "execution_count": 33,
   "metadata": {},
   "outputs": [
    {
     "name": "stdout",
     "output_type": "stream",
     "text": [
      "[1, 'a']\n"
     ]
    }
   ],
   "source": [
    "l=[1,'a']\n",
    "print(l)\n",
    "#in python, multiple data types are allowed in single list"
   ]
  },
  {
   "cell_type": "code",
   "execution_count": 34,
   "metadata": {},
   "outputs": [
    {
     "name": "stdout",
     "output_type": "stream",
     "text": [
      "['a', 'x', 'y', 'e']\n"
     ]
    }
   ],
   "source": [
    "letters=['a','b','c','d','e']\n",
    "letters[1:4]=['x','y']\n",
    "print(letters)\n"
   ]
  },
  {
   "cell_type": "code",
   "execution_count": 35,
   "metadata": {},
   "outputs": [
    {
     "name": "stdout",
     "output_type": "stream",
     "text": [
      "['BHP', 'BHP Documents', 'Custom Assessments', 'Learnings', 'Outreach', 'Saran Data PDF']\n"
     ]
    }
   ],
   "source": [
    "import os\n",
    "filepath=r'C:\\Users\\551455\\Desktop\\Sharan'\n",
    "print(os.listdir(filepath))"
   ]
  },
  {
   "cell_type": "markdown",
   "metadata": {},
   "source": [
    "# LOOPING:)"
   ]
  },
  {
   "cell_type": "code",
   "execution_count": 52,
   "metadata": {},
   "outputs": [
    {
     "name": "stdout",
     "output_type": "stream",
     "text": [
      "Saranya\n",
      "Saranya\n",
      "Saranya\n",
      "Saranya\n",
      "Saranya\n"
     ]
    }
   ],
   "source": [
    "#While Loops(0-false,non zero integers true,Empty String-false, non-empty string - True)\n",
    "#to print name 5 times\n",
    "a=5\n",
    "while(a):\n",
    "    print(Name)\n",
    "    a=a-1"
   ]
  },
  {
   "cell_type": "code",
   "execution_count": 37,
   "metadata": {},
   "outputs": [
    {
     "name": "stdout",
     "output_type": "stream",
     "text": [
      "The value of i is 65536\n"
     ]
    }
   ],
   "source": [
    "i = 256*256\n",
    ">>> print('The value of i is', i)\n"
   ]
  },
  {
   "cell_type": "code",
   "execution_count": 45,
   "metadata": {},
   "outputs": [
    {
     "name": "stdout",
     "output_type": "stream",
     "text": [
      "fatal error\n"
     ]
    },
    {
     "name": "stderr",
     "output_type": "stream",
     "text": [
      "fatal error\n"
     ]
    }
   ],
   "source": [
    "#to print error\n",
    "print(\"fatal error\", file=sys.stderr)\n",
    "print(\"fatal error\")"
   ]
  },
  {
   "cell_type": "code",
   "execution_count": 55,
   "metadata": {},
   "outputs": [
    {
     "name": "stdout",
     "output_type": "stream",
     "text": [
      "[1, 2, 3].Saranya\n"
     ]
    }
   ],
   "source": [
    "#separates objects by given delimiter\n",
    "\n",
    "lis=[1,2,3]\n",
    "print(lis,Name,sep='.')"
   ]
  },
  {
   "cell_type": "markdown",
   "metadata": {},
   "source": [
    "# Control Flow Statements"
   ]
  },
  {
   "cell_type": "code",
   "execution_count": 16,
   "metadata": {},
   "outputs": [
    {
     "name": "stdout",
     "output_type": "stream",
     "text": [
      "Please enter an integer: 00\n",
      "Zero\n"
     ]
    }
   ],
   "source": [
    "#IF Condition\n",
    "\n",
    "x = int(input(\"Please enter an integer: \"))\n",
    "if x%2==0 and x>0 : \n",
    "    print('Positive Even Number')\n",
    "elif x%2==0 and x<0:\n",
    "    print('Negative Even Number')\n",
    "elif x==0:\n",
    "    print('Zero')\n",
    "elif x%2!=0 and x<0:\n",
    "    print('Negative Odd Number')\n",
    "else : print('Positive Odd Number')"
   ]
  },
  {
   "cell_type": "code",
   "execution_count": 34,
   "metadata": {},
   "outputs": [
    {
     "name": "stdout",
     "output_type": "stream",
     "text": [
      "Printing Words\n",
      "\n",
      "Enterprise - 10\n",
      "Alphabet - 8\n",
      "Zebra - 5\n",
      "Cat - 3\n"
     ]
    }
   ],
   "source": [
    "#FOR Condition --- List Iteration using for loop\n",
    "#w->equivalent for each string\n",
    "print('Printing Words\\n')\n",
    "word=['Enterprise','Alphabet','Zebra','Cat']\n",
    "for w in word:\n",
    "    print(w,'-',len(w))\n",
    "\n"
   ]
  },
  {
   "cell_type": "code",
   "execution_count": 37,
   "metadata": {},
   "outputs": [
    {
     "name": "stdout",
     "output_type": "stream",
     "text": [
      "['Alphabet', 'Enterprise', 'Enterprise', 'Alphabet', 'Zebra', 'Cat']\n"
     ]
    }
   ],
   "source": [
    "word=['Enterprise','Alphabet','Zebra','Cat']\n",
    "for w in word[:]:  # Loop over a slice copy of the entire list.\n",
    "    if len(w) > 6:\n",
    "        word.insert(0, w)\n",
    "print(word)"
   ]
  },
  {
   "cell_type": "code",
   "execution_count": 38,
   "metadata": {},
   "outputs": [
    {
     "name": "stdout",
     "output_type": "stream",
     "text": [
      "0\n",
      "1\n",
      "2\n",
      "3\n",
      "4\n"
     ]
    }
   ],
   "source": [
    "#Range()-->inbuilt Fn that generates sequence of numbers\n",
    "for i in range(5):\n",
    "    print(i)\n"
   ]
  },
  {
   "cell_type": "code",
   "execution_count": 53,
   "metadata": {},
   "outputs": [
    {
     "name": "stdout",
     "output_type": "stream",
     "text": [
      "1\n",
      "3\n",
      "------------\n",
      "1\n",
      "2\n",
      "3\n",
      "4\n",
      "------------\n",
      "-10\n",
      "-40\n",
      "-70\n",
      "------------\n",
      "1\n",
      "2\n",
      "3\n",
      "4\n",
      "----------------\n",
      "0 This\n",
      "1 is\n",
      "2 My\n",
      "3 Computer\n"
     ]
    }
   ],
   "source": [
    "#Range Steps(inc strtng range,exc ending range, steps)\n",
    "for i in range(1,5,2):\n",
    "    print(i)\n",
    "print('------------')\n",
    "for i in range(1,5):\n",
    "    print(i)\n",
    "print('------------')\n",
    "for i in range(-10,-100,-30):\n",
    "    print(i)\n",
    "print('------------')\n",
    "for i in list(range(1,5)):\n",
    "    print(i)\n",
    "print('----------------')\n",
    "a=['This','is','My','Computer']\n",
    "for i in range(len(a)):\n",
    "       print(i,a[i])"
   ]
  }
 ],
 "metadata": {
  "kernelspec": {
   "display_name": "Python 3",
   "language": "python",
   "name": "python3"
  },
  "language_info": {
   "codemirror_mode": {
    "name": "ipython",
    "version": 3
   },
   "file_extension": ".py",
   "mimetype": "text/x-python",
   "name": "python",
   "nbconvert_exporter": "python",
   "pygments_lexer": "ipython3",
   "version": "3.6.3"
  }
 },
 "nbformat": 4,
 "nbformat_minor": 2
}
